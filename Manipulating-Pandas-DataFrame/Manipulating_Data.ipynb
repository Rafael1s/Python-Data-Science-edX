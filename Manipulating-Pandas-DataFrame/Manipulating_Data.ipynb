{
 "cells": [
  {
   "cell_type": "markdown",
   "metadata": {},
   "source": [
    "## Manipulating Data, Pandas DataFrame\n",
    "\n",
    "In this notebook, I use the following files:\n",
    "\n",
    "* file 'tutorial_1.csv'      shape:  (4, 4) (Comma Separated Values File (.csv) file)\n",
    "\n",
    "* file 'servo.data'          shape:  (167, 5) from the site [UCI, Machine Learning Repository](https://archive.ics.uci.edu/ml/datasets/Servo)\n",
    "\n",
    "* file 'players_2.txt'       shape:  (46, 17) from the site [NHL Player Points Statistics - 2014-15](http://www.espn.com/nhl/statistics/player/_/stat/points/sort/points/year/2015)\n",
    "\n",
    "* file 'Prestige.txt'   shape:  (101, 7) \n",
    "from the site [An R and S-PLUS Companion to Applied Regression](https://socialsciences.mcmaster.ca/jfox/Books/Companion-1E/scripts.html)"
   ]
  },
  {
   "cell_type": "markdown",
   "metadata": {},
   "source": [
    "### Part I:    DataFrame type\n",
    "\n",
    "__DataFrame__ is a 2-dimensional labeled data structure with columns of potentially different types. \n",
    "It is like a spreadsheet or SQL table, \n",
    "or a dict of Series objects. It is generally the __most commonly used pandas object__. \n",
    "Like Series, DataFrame accepts many different kinds of input:\n",
    "\n",
    "* Dict of 1D ndarrays, lists, dicts, or Series\n",
    "* 2-D numpy.ndarray\n",
    "* Structured or record ndarray\n",
    "* A _Series_\n",
    "* Another _DataFrame_"
   ]
  },
  {
   "cell_type": "code",
   "execution_count": 1,
   "metadata": {},
   "outputs": [],
   "source": [
    "import pandas as pd"
   ]
  },
  {
   "cell_type": "code",
   "execution_count": 2,
   "metadata": {},
   "outputs": [
    {
     "name": "stdout",
     "output_type": "stream",
     "text": [
      "df shape:  (4, 4)\n",
      "       col0      col1      col2      col3\n",
      "0 -0.722876 -1.330682  1.309208  0.232378\n",
      "1  1.160396 -0.730879  0.677368  1.044722\n",
      "2 -1.062870 -0.503704 -0.238536 -1.417937\n",
      "3  0.437078  0.362640 -0.111228 -1.649853\n",
      "\n",
      "            col0      col1      col2      col3\n",
      "count  4.000000  4.000000  4.000000  4.000000\n",
      "mean  -0.047068 -0.550656  0.409203 -0.447672\n",
      "std    1.029715  0.701720  0.723956  1.300815\n",
      "min   -1.062870 -1.330682 -0.238536 -1.649853\n",
      "25%   -0.807875 -0.880830 -0.143055 -1.475916\n",
      "50%   -0.142899 -0.617291  0.283070 -0.592780\n",
      "75%    0.617907 -0.287118  0.835328  0.435464\n",
      "max    1.160396  0.362640  1.309208  1.044722\n",
      "\n",
      " df type:  <class 'pandas.core.frame.DataFrame'>\n"
     ]
    },
    {
     "data": {
      "text/html": [
       "<div>\n",
       "<style scoped>\n",
       "    .dataframe tbody tr th:only-of-type {\n",
       "        vertical-align: middle;\n",
       "    }\n",
       "\n",
       "    .dataframe tbody tr th {\n",
       "        vertical-align: top;\n",
       "    }\n",
       "\n",
       "    .dataframe thead th {\n",
       "        text-align: right;\n",
       "    }\n",
       "</style>\n",
       "<table border=\"1\" class=\"dataframe\">\n",
       "  <thead>\n",
       "    <tr style=\"text-align: right;\">\n",
       "      <th></th>\n",
       "      <th>col0</th>\n",
       "      <th>col1</th>\n",
       "      <th>col2</th>\n",
       "      <th>col3</th>\n",
       "    </tr>\n",
       "  </thead>\n",
       "  <tbody>\n",
       "    <tr>\n",
       "      <th>0</th>\n",
       "      <td>-0.722876</td>\n",
       "      <td>-1.330682</td>\n",
       "      <td>1.309208</td>\n",
       "      <td>0.232378</td>\n",
       "    </tr>\n",
       "    <tr>\n",
       "      <th>1</th>\n",
       "      <td>1.160396</td>\n",
       "      <td>-0.730879</td>\n",
       "      <td>0.677368</td>\n",
       "      <td>1.044722</td>\n",
       "    </tr>\n",
       "    <tr>\n",
       "      <th>2</th>\n",
       "      <td>-1.062870</td>\n",
       "      <td>-0.503704</td>\n",
       "      <td>-0.238536</td>\n",
       "      <td>-1.417937</td>\n",
       "    </tr>\n",
       "    <tr>\n",
       "      <th>3</th>\n",
       "      <td>0.437078</td>\n",
       "      <td>0.362640</td>\n",
       "      <td>-0.111228</td>\n",
       "      <td>-1.649853</td>\n",
       "    </tr>\n",
       "  </tbody>\n",
       "</table>\n",
       "</div>"
      ],
      "text/plain": [
       "       col0      col1      col2      col3\n",
       "0 -0.722876 -1.330682  1.309208  0.232378\n",
       "1  1.160396 -0.730879  0.677368  1.044722\n",
       "2 -1.062870 -0.503704 -0.238536 -1.417937\n",
       "3  0.437078  0.362640 -0.111228 -1.649853"
      ]
     },
     "execution_count": 2,
     "metadata": {},
     "output_type": "execute_result"
    }
   ],
   "source": [
    "df = pd.read_csv('files/tutorial_1.csv')\n",
    "print('df shape: ', df.shape)\n",
    "# Print all lines\n",
    "print(df[0:]) \n",
    "print('\\n', df.describe())\n",
    "print('\\n df type: ', type(df))\n",
    "df.head()"
   ]
  },
  {
   "cell_type": "markdown",
   "metadata": {},
   "source": [
    "### Select column as the second coordinate of .loc"
   ]
  },
  {
   "cell_type": "code",
   "execution_count": 3,
   "metadata": {},
   "outputs": [
    {
     "name": "stdout",
     "output_type": "stream",
     "text": [
      "2   -1.417937\n",
      "3   -1.649853\n",
      "Name: col3, dtype: float64\n"
     ]
    }
   ],
   "source": [
    "print(df.loc[2:4,'col3'])"
   ]
  },
  {
   "cell_type": "markdown",
   "metadata": {},
   "source": [
    "### Select column as the element of pandas DataFrame"
   ]
  },
  {
   "cell_type": "code",
   "execution_count": 4,
   "metadata": {},
   "outputs": [
    {
     "name": "stdout",
     "output_type": "stream",
     "text": [
      "2   -1.417937\n",
      "3   -1.649853\n",
      "Name: col3, dtype: float64\n"
     ]
    }
   ],
   "source": [
    "print(df.col3[2:4])"
   ]
  },
  {
   "cell_type": "markdown",
   "metadata": {},
   "source": [
    "### Select the column name as an index of DataFrame"
   ]
  },
  {
   "cell_type": "code",
   "execution_count": 5,
   "metadata": {},
   "outputs": [
    {
     "name": "stdout",
     "output_type": "stream",
     "text": [
      "2   -1.417937\n",
      "3   -1.649853\n",
      "Name: col3, dtype: float64\n"
     ]
    }
   ],
   "source": [
    "print(df['col3'][2:4])"
   ]
  },
  {
   "cell_type": "markdown",
   "metadata": {},
   "source": [
    "### Part II: DataFrame type, no head,  filtering"
   ]
  },
  {
   "cell_type": "code",
   "execution_count": 6,
   "metadata": {},
   "outputs": [
    {
     "name": "stdout",
     "output_type": "stream",
     "text": [
      "df shape:  (167, 5)\n",
      "   motor screw  pgain  vgain     class\n",
      "0      E     E      5      4  0.281251\n",
      "1      B     D      6      5  0.506252\n",
      "2      D     D      4      3  0.356251\n",
      "3      B     A      3      2  5.500033\n",
      "4      D     B      6      5  0.356251\n",
      "5      E     C      4      3  0.806255\n",
      "6      C     A      3      2  5.100014\n",
      "7      A     A      3      2  5.700042\n",
      "8      C     A      6      5  0.768754\n",
      "9      D     A      4      1  1.031254\n",
      "10     B     E      6      5  0.468752\n",
      "11     E     C      5      4  0.393752\n",
      "12     B     C      4      1  0.281251\n",
      "13     E     C      3      1  1.100000\n",
      "14     C     C      5      4  0.506252\n",
      "15     E     B      3      2  1.899990\n",
      "16     D     C      3      1  0.900001\n",
      "17     B     C      5      4  0.468752\n",
      "18     B     B      5      4  0.543753\n",
      "19     C     E      4      2  0.206250\n",
      "20     E     D      4      3  0.918755\n",
      "21     A     D      4      3  1.106248\n",
      "22     B     C      6      5  0.468752\n",
      "23     A     C      4      2  0.581253\n",
      "24     A     B      6      5  0.581253\n",
      "25     E     C      6      5  0.393752\n",
      "26     A     A      3      1  5.300024\n",
      "27     A     E      4      2  0.468752\n",
      "28     C     D      3      2  1.899990\n",
      "29     B     B      3      2  4.299977\n",
      "\n",
      "             pgain       vgain       class\n",
      "count  167.000000  167.000000  167.000000\n",
      "mean     4.155689    2.538922    1.389708\n",
      "std      1.017770    1.369850    1.559635\n",
      "min      3.000000    1.000000    0.131250\n",
      "25%      3.000000    1.000000    0.503126\n",
      "50%      4.000000    2.000000    0.731254\n",
      "75%      5.000000    4.000000    1.259369\n",
      "max      6.000000    5.000000    7.100108\n",
      "\n",
      " df type:  <class 'pandas.core.frame.DataFrame'>\n"
     ]
    },
    {
     "data": {
      "text/html": [
       "<div>\n",
       "<style scoped>\n",
       "    .dataframe tbody tr th:only-of-type {\n",
       "        vertical-align: middle;\n",
       "    }\n",
       "\n",
       "    .dataframe tbody tr th {\n",
       "        vertical-align: top;\n",
       "    }\n",
       "\n",
       "    .dataframe thead th {\n",
       "        text-align: right;\n",
       "    }\n",
       "</style>\n",
       "<table border=\"1\" class=\"dataframe\">\n",
       "  <thead>\n",
       "    <tr style=\"text-align: right;\">\n",
       "      <th></th>\n",
       "      <th>motor</th>\n",
       "      <th>screw</th>\n",
       "      <th>pgain</th>\n",
       "      <th>vgain</th>\n",
       "      <th>class</th>\n",
       "    </tr>\n",
       "  </thead>\n",
       "  <tbody>\n",
       "    <tr>\n",
       "      <th>0</th>\n",
       "      <td>E</td>\n",
       "      <td>E</td>\n",
       "      <td>5</td>\n",
       "      <td>4</td>\n",
       "      <td>0.281251</td>\n",
       "    </tr>\n",
       "    <tr>\n",
       "      <th>1</th>\n",
       "      <td>B</td>\n",
       "      <td>D</td>\n",
       "      <td>6</td>\n",
       "      <td>5</td>\n",
       "      <td>0.506252</td>\n",
       "    </tr>\n",
       "    <tr>\n",
       "      <th>2</th>\n",
       "      <td>D</td>\n",
       "      <td>D</td>\n",
       "      <td>4</td>\n",
       "      <td>3</td>\n",
       "      <td>0.356251</td>\n",
       "    </tr>\n",
       "    <tr>\n",
       "      <th>3</th>\n",
       "      <td>B</td>\n",
       "      <td>A</td>\n",
       "      <td>3</td>\n",
       "      <td>2</td>\n",
       "      <td>5.500033</td>\n",
       "    </tr>\n",
       "    <tr>\n",
       "      <th>4</th>\n",
       "      <td>D</td>\n",
       "      <td>B</td>\n",
       "      <td>6</td>\n",
       "      <td>5</td>\n",
       "      <td>0.356251</td>\n",
       "    </tr>\n",
       "  </tbody>\n",
       "</table>\n",
       "</div>"
      ],
      "text/plain": [
       "  motor screw  pgain  vgain     class\n",
       "0     E     E      5      4  0.281251\n",
       "1     B     D      6      5  0.506252\n",
       "2     D     D      4      3  0.356251\n",
       "3     B     A      3      2  5.500033\n",
       "4     D     B      6      5  0.356251"
      ]
     },
     "execution_count": 6,
     "metadata": {},
     "output_type": "execute_result"
    }
   ],
   "source": [
    "cols = ['motor','screw','pgain','vgain','class']\n",
    "\n",
    "# Try another names of columns\n",
    "# cols = ['Col1','screw','Col3','vgain','Col5']\n",
    "\n",
    "df = pd.read_csv('files/servo.data', names = cols)\n",
    "print('df shape: ', df.shape)\n",
    "# Print all lines\n",
    "#print(df[0:])\n",
    "print(df[0:30]) \n",
    "print('\\n', df.describe())\n",
    "print('\\n df type: ', type(df))\n",
    "df.head()"
   ]
  },
  {
   "cell_type": "markdown",
   "metadata": {},
   "source": [
    "### Print with another precision"
   ]
  },
  {
   "cell_type": "code",
   "execution_count": 7,
   "metadata": {},
   "outputs": [
    {
     "name": "stdout",
     "output_type": "stream",
     "text": [
      "  motor screw  pgain  vgain   class\n",
      "0     E     E      5      4  0.2813\n",
      "1     B     D      6      5  0.5063\n",
      "2     D     D      4      3  0.3563\n",
      "3     B     A      3      2  5.5000\n",
      "4     D     B      6      5  0.3563\n",
      "5     E     C      4      3  0.8063\n",
      "6     C     A      3      2  5.1000\n",
      "7     A     A      3      2  5.7000\n"
     ]
    }
   ],
   "source": [
    "n_lines = 8\n",
    "with pd.option_context('display.precision', 4):\n",
    "    print(df[0:n_lines])"
   ]
  },
  {
   "cell_type": "markdown",
   "metadata": {},
   "source": [
    "### How many values with  vgain = 1"
   ]
  },
  {
   "cell_type": "code",
   "execution_count": 8,
   "metadata": {},
   "outputs": [
    {
     "name": "stdout",
     "output_type": "stream",
     "text": [
      "    motor screw  pgain  vgain     class\n",
      "9       D     A      4      1  1.031254\n",
      "12      B     C      4      1  0.281251\n",
      "13      E     C      3      1  1.100000\n",
      "16      D     C      3      1  0.900001\n",
      "26      A     A      3      1  5.300024\n",
      "31      B     C      3      1  3.899964\n",
      "32      C     E      4      1  0.543753\n",
      "36      D     E      3      1  0.500000\n",
      "39      C     D      4      1  0.206250\n",
      "40      D     B      4      1  0.693754\n",
      "43      B     D      4      1  0.243751\n",
      "46      B     A      4      1  0.806255\n",
      "49      D     D      3      1  0.700001\n",
      "63      C     A      6      1  0.543753\n",
      "74      A     C      4      1  0.356251\n",
      "76      E     C      4      1  0.281251\n",
      "77      B     B      3      1  4.499986\n",
      "80      E     A      3      1  7.100108\n",
      "94      A     E      4      1  0.243751\n",
      "96      E     D      3      1  0.900001\n",
      "97      C     B      4      1  0.431252\n",
      "102     B     D      3      1  3.899964\n",
      "104     C     C      4      1  0.243751\n",
      "106     E     B      4      1  1.181243\n",
      "107     D     B      3      1  1.299997\n",
      "109     D     A      3      1  2.499982\n",
      "111     C     A      4      1  0.731254\n",
      "115     A     A      4      1  0.843755\n",
      "119     C     D      3      1  1.499995\n",
      "120     B     B      4      1  0.581253\n",
      "122     C     A      5      1  0.543753\n",
      "123     C     E      3      1  1.299997\n",
      "124     C     A      3      1  4.299977\n",
      "126     C     C      3      1  1.899990\n",
      "136     A     B      4      1  0.618753\n",
      "138     B     E      4      1  0.206250\n",
      "139     C     B      3      1  3.899964\n",
      "142     A     E      3      1  3.899964\n",
      "144     A     C      3      1  3.899964\n",
      "146     B     A      3      1  5.100014\n",
      "149     E     A      4      1  0.881255\n",
      "151     E     E      3      1  0.700001\n",
      "153     E     B      3      1  1.499995\n",
      "154     A     D      4      1  0.243751\n",
      "155     A     D      3      1  4.099967\n",
      "157     A     B      3      1  4.699995\n",
      "163     B     E      3      1  3.699967\n",
      "\n",
      "\n",
      "motor    47\n",
      "screw    47\n",
      "pgain    47\n",
      "vgain    47\n",
      "class    47\n",
      "dtype: int64\n"
     ]
    }
   ],
   "source": [
    "# print all lines\n",
    "# print(df)\n",
    "df_vgain = df[df['vgain']==1]\n",
    "print(df_vgain)\n",
    "print('\\n')\n",
    "print(df_vgain.count())"
   ]
  },
  {
   "cell_type": "markdown",
   "metadata": {},
   "source": [
    "### How many values such that motor = 'E' & screw = 'E'"
   ]
  },
  {
   "cell_type": "code",
   "execution_count": 9,
   "metadata": {},
   "outputs": [
    {
     "name": "stdout",
     "output_type": "stream",
     "text": [
      "motor    6\n",
      "screw    6\n",
      "pgain    6\n",
      "vgain    6\n",
      "class    6\n",
      "dtype: int64\n"
     ]
    }
   ],
   "source": [
    "dfilter =  (df['motor']=='E') & (df['screw']=='E')\n",
    "d1 = df[dfilter]\n",
    "print(d1.count())"
   ]
  },
  {
   "cell_type": "markdown",
   "metadata": {},
   "source": [
    "### Filtering and finding the mean"
   ]
  },
  {
   "cell_type": "code",
   "execution_count": 10,
   "metadata": {},
   "outputs": [
    {
     "name": "stdout",
     "output_type": "stream",
     "text": [
      "motor    66\n",
      "screw    66\n",
      "pgain    66\n",
      "vgain    66\n",
      "class    66\n",
      "dtype: int64\n",
      "mean vgain for all rows: \n",
      "2.538922155688623\n",
      "mean vgain for the rows with pgain = 4:\n",
      "2.0606060606060606\n"
     ]
    }
   ],
   "source": [
    "df1 = df[df['pgain']==4]\n",
    "#print(df1)\n",
    "print(df1.count())\n",
    "print(\"mean vgain for all rows: \")\n",
    "print(df['vgain'].mean())\n",
    "print(\"mean vgain for the rows with pgain = 4:\") \n",
    "print(df1['vgain'].mean())"
   ]
  },
  {
   "cell_type": "markdown",
   "metadata": {},
   "source": [
    "### Part III: Check and filter data"
   ]
  },
  {
   "cell_type": "code",
   "execution_count": 11,
   "metadata": {},
   "outputs": [
    {
     "name": "stdout",
     "output_type": "stream",
     "text": [
      "                              RK                  PLAYER TEAM    GP     G  \\\n",
      "0   Points Leaders - All Players                     NaN  NaN   NaN   NaN   \n",
      "1                             PP                      SH  NaN   NaN   NaN   \n",
      "2                              1          Jamie Benn, LW  DAL  82.0  35.0   \n",
      "3                              2         John Tavares, C  NYI  82.0  38.0   \n",
      "4                              3        Sidney Crosby, C  PIT  77.0  28.0   \n",
      "5                              4       Alex Ovechkin, LW  WSH  81.0  53.0   \n",
      "6                                      Jakub Voracek, RW  PHI  82.0  22.0   \n",
      "7                              6    Nicklas Backstrom, C  WSH  82.0  18.0   \n",
      "8                              7         Tyler Seguin, C  DAL  71.0  37.0   \n",
      "9                              8         Jiri Hudler, LW  CGY  78.0  31.0   \n",
      "10                                      Daniel Sedin, LW  VAN  82.0  20.0   \n",
      "11                            10  Vladimir Tarasenko, RW  STL  77.0  37.0   \n",
      "12                            PP                      SH  NaN   NaN   NaN   \n",
      "13                                      Nick Foligno, LW  CBJ  79.0  31.0   \n",
      "14                                      Claude Giroux, C  PHI  81.0  25.0   \n",
      "15                                       Henrik Sedin, C  VAN  82.0  18.0   \n",
      "16                            14       Steven Stamkos, C   TB  82.0  43.0   \n",
      "17                                      Tyler Johnson, C   TB  77.0  29.0   \n",
      "18                            16        Ryan Johansen, C  CBJ  82.0  26.0   \n",
      "19                            17         Joe Pavelski, C   SJ  82.0  37.0   \n",
      "20                                      Evgeni Malkin, C  PIT  69.0  28.0   \n",
      "21                                       Ryan Getzlaf, C  ANA  77.0  25.0   \n",
      "22                            20           Rick Nash, LW  NYR  79.0  42.0   \n",
      "23                            PP                      SH  NaN   NaN   NaN   \n",
      "24                            21      Max Pacioretty, LW  MTL  80.0  37.0   \n",
      "25                                      Logan Couture, C   SJ  82.0  27.0   \n",
      "26                            23       Jonathan Toews, C  CHI  81.0  28.0   \n",
      "27                                      Erik Karlsson, D  OTT  82.0  21.0   \n",
      "28                                 Henrik Zetterberg, LW  DET  77.0  17.0   \n",
      "29                            26        Pavel Datsyuk, C  DET  63.0  26.0   \n",
      "30                                       Joe Thornton, C   SJ  78.0  16.0   \n",
      "31                            28     Nikita Kucherov, RW   TB  82.0  28.0   \n",
      "32                                      Patrick Kane, RW  CHI  61.0  27.0   \n",
      "33                                        Mark Stone, RW  OTT  80.0  26.0   \n",
      "34                           NaN                     NaN  NaN   NaN   NaN   \n",
      "35                            PP                      SH  NaN   NaN   NaN   \n",
      "36                                   Alexander Steen, LW  STL  74.0  24.0   \n",
      "37                                        Kyle Turris, C  OTT  82.0  24.0   \n",
      "38                                   Johnny Gaudreau, LW  CGY  80.0  24.0   \n",
      "39                                       Anze Kopitar, C   LA  79.0  16.0   \n",
      "40                            35        Radim Vrbata, RW  VAN  79.0  31.0   \n",
      "41                                    Jaden Schwartz, LW  STL  75.0  28.0   \n",
      "42                                     Filip Forsberg, C  NSH  82.0  26.0   \n",
      "43                                     Jordan Eberle, RW  EDM  81.0  24.0   \n",
      "44                                      Ondrej Palat, LW   TB  75.0  16.0   \n",
      "45                            40         Zach Parise, LW  MIN  74.0  33.0   \n",
      "\n",
      "       A   PTS   +/-   PIM  PTS/G    SOG   PCT   GWG    G1    A1   G2   A2  \n",
      "0    NaN   NaN   NaN   NaN    NaN    NaN   NaN   NaN   NaN   NaN  NaN  NaN  \n",
      "1    NaN   NaN   NaN   NaN    NaN    NaN   NaN   NaN   NaN   NaN  NaN  NaN  \n",
      "2   52.0  87.0   1.0  64.0   1.06  253.0  13.8   6.0  10.0  13.0  2.0  3.0  \n",
      "3   48.0  86.0   5.0  46.0   1.05  278.0  13.7   8.0  13.0  18.0  0.0  1.0  \n",
      "4   56.0  84.0   5.0  47.0   1.09  237.0  11.8   3.0  10.0  21.0  0.0  0.0  \n",
      "5   28.0  81.0  10.0  58.0   1.00  395.0  13.4  11.0  25.0   9.0  0.0  0.0  \n",
      "6   59.0  81.0   1.0  78.0   0.99  221.0  10.0   3.0  11.0  22.0  0.0  0.0  \n",
      "7   60.0  78.0   5.0  40.0   0.95  153.0  11.8   3.0   3.0  30.0  0.0  0.0  \n",
      "8   40.0  77.0  -1.0  20.0   1.08  280.0  13.2   5.0  13.0  16.0  0.0  0.0  \n",
      "9   45.0  76.0  17.0  14.0   0.97  158.0  19.6   5.0   6.0  10.0  0.0  0.0  \n",
      "10  56.0  76.0   5.0  18.0   0.93  226.0   8.9   5.0   4.0  21.0  0.0  0.0  \n",
      "11  36.0  73.0  27.0  31.0   0.95  264.0  14.0   6.0   8.0  10.0  0.0  0.0  \n",
      "12   NaN   NaN   NaN   NaN    NaN    NaN   NaN   NaN   NaN   NaN  NaN  NaN  \n",
      "13  42.0  73.0  16.0  50.0   0.92  182.0  17.0   3.0  11.0  15.0  0.0  0.0  \n",
      "14  48.0  73.0  -3.0  36.0   0.90  279.0   9.0   4.0  14.0  23.0  0.0  0.0  \n",
      "15  55.0  73.0  11.0  22.0   0.89  101.0  17.8   0.0   5.0  20.0  0.0  0.0  \n",
      "16  29.0  72.0   2.0  49.0   0.88  268.0  16.0   6.0  13.0  12.0  0.0  0.0  \n",
      "17  43.0  72.0  33.0  24.0   0.94  203.0  14.3   6.0   8.0   9.0  0.0  0.0  \n",
      "18  45.0  71.0  -6.0  40.0   0.87  202.0  12.9   0.0   7.0  19.0  2.0  0.0  \n",
      "19  33.0  70.0  12.0  29.0   0.85  261.0  14.2   5.0  19.0  12.0  0.0  0.0  \n",
      "20  42.0  70.0  -2.0  60.0   1.01  212.0  13.2   4.0   9.0  17.0  0.0  0.0  \n",
      "21  45.0  70.0  15.0  62.0   0.91  191.0  13.1   6.0   3.0  10.0  0.0  2.0  \n",
      "22  27.0  69.0  29.0  36.0   0.87  304.0  13.8   8.0   6.0   6.0  4.0  1.0  \n",
      "23   NaN   NaN   NaN   NaN    NaN    NaN   NaN   NaN   NaN   NaN  NaN  NaN  \n",
      "24  30.0  67.0  38.0  32.0   0.84  302.0  12.3  10.0   7.0   4.0  3.0  2.0  \n",
      "25  40.0  67.0  -6.0  12.0   0.82  263.0  10.3   4.0   6.0  18.0  2.0  0.0  \n",
      "26  38.0  66.0  30.0  36.0   0.81  192.0  14.6   7.0   6.0  11.0  2.0  1.0  \n",
      "27  45.0  66.0   7.0  42.0   0.80  292.0   7.2   3.0   6.0  24.0  0.0  0.0  \n",
      "28  49.0  66.0  -6.0  32.0   0.86  227.0   7.5   3.0   4.0  24.0  0.0  0.0  \n",
      "29  39.0  65.0  12.0   8.0   1.03  165.0  15.8   5.0   8.0  16.0  0.0  0.0  \n",
      "30  49.0  65.0  -4.0  30.0   0.83  131.0  12.2   0.0   4.0  18.0  0.0  0.0  \n",
      "31  36.0  64.0  38.0  37.0   0.78  190.0  14.7   2.0   2.0  13.0  0.0  0.0  \n",
      "32  37.0  64.0  10.0  10.0   1.05  186.0  14.5   5.0   6.0  16.0  0.0  0.0  \n",
      "33  38.0  64.0  21.0  14.0   0.80  157.0  16.6   6.0   5.0   8.0  1.0  0.0  \n",
      "34   NaN   NaN   NaN   NaN    NaN    NaN   NaN   NaN   NaN   NaN  NaN  NaN  \n",
      "35   NaN   NaN   NaN   NaN    NaN    NaN   NaN   NaN   NaN   NaN  NaN  NaN  \n",
      "36  40.0  64.0   8.0  33.0   0.86  223.0  10.8   5.0   8.0  16.0  0.0  0.0  \n",
      "37  40.0  64.0   5.0  36.0   0.78  215.0  11.2   6.0   4.0  12.0  1.0  0.0  \n",
      "38  40.0  64.0  11.0  14.0   0.80  167.0  14.4   4.0   8.0  13.0  0.0  0.0  \n",
      "39  48.0  64.0  -2.0  10.0   0.81  134.0  11.9   4.0   6.0  18.0  0.0  0.0  \n",
      "40  32.0  63.0   6.0  20.0   0.80  267.0  11.6   7.0  12.0  11.0  0.0  0.0  \n",
      "41  35.0  63.0  13.0  16.0   0.84  184.0  15.2   4.0   8.0   8.0  0.0  2.0  \n",
      "42  37.0  63.0  15.0  24.0   0.77  237.0  11.0   6.0   6.0  13.0  0.0  0.0  \n",
      "43  39.0  63.0 -16.0  24.0   0.78  183.0  13.1   2.0   6.0  15.0  0.0  0.0  \n",
      "44  47.0  63.0  31.0  24.0   0.84  139.0  11.5   5.0   3.0   8.0  1.0  1.0  \n",
      "45  29.0  62.0  21.0  41.0   0.84  259.0  12.7   3.0  11.0   5.0  0.0  0.0  \n",
      "df2 shape:  (46, 17)\n"
     ]
    }
   ],
   "source": [
    "df2 = pd.read_csv('files/players_2.txt', sep = '\\t', names = [\n",
    "                 'RK', 'PLAYER', 'TEAM', 'GP', \n",
    "                 'G', 'A', 'PTS', '+/-',\n",
    "                 'PIM', 'PTS/G', 'SOG', 'PCT',\n",
    "                 'GWG', 'G1', 'A1', 'G2', 'A2' ],\n",
    "                 na_values='NaN')\n",
    "    \n",
    "#print(df2[0:7])\n",
    "print(df2)\n",
    "print('df2 shape: ', df2.shape)"
   ]
  },
  {
   "cell_type": "markdown",
   "metadata": {},
   "source": [
    "### Check every cell on NaN"
   ]
  },
  {
   "cell_type": "code",
   "execution_count": 12,
   "metadata": {},
   "outputs": [
    {
     "name": "stdout",
     "output_type": "stream",
     "text": [
      "      RK  PLAYER   TEAM     GP      G      A    PTS    +/-    PIM  PTS/G  \\\n",
      "0  False    True   True   True   True   True   True   True   True   True   \n",
      "1  False   False   True   True   True   True   True   True   True   True   \n",
      "2  False   False  False  False  False  False  False  False  False  False   \n",
      "3  False   False  False  False  False  False  False  False  False  False   \n",
      "4  False   False  False  False  False  False  False  False  False  False   \n",
      "\n",
      "     SOG    PCT    GWG     G1     A1     G2     A2  \n",
      "0   True   True   True   True   True   True   True  \n",
      "1   True   True   True   True   True   True   True  \n",
      "2  False  False  False  False  False  False  False  \n",
      "3  False  False  False  False  False  False  False  \n",
      "4  False  False  False  False  False  False  False  \n",
      "0    16\n",
      "1    15\n",
      "2     0\n",
      "3     0\n",
      "4     0\n",
      "dtype: int64\n"
     ]
    }
   ],
   "source": [
    "print(df2.isnull()[0:5])\n",
    "\n",
    "# how many NaN's in each line\n",
    "print(df2.isnull()[0:5].sum(axis=1))"
   ]
  },
  {
   "cell_type": "markdown",
   "metadata": {},
   "source": [
    "### Drop NaN data"
   ]
  },
  {
   "cell_type": "code",
   "execution_count": 13,
   "metadata": {},
   "outputs": [
    {
     "name": "stdout",
     "output_type": "stream",
     "text": [
      "    RK                  PLAYER TEAM    GP     G     A   PTS   +/-   PIM  \\\n",
      "2    1          Jamie Benn, LW  DAL  82.0  35.0  52.0  87.0   1.0  64.0   \n",
      "3    2         John Tavares, C  NYI  82.0  38.0  48.0  86.0   5.0  46.0   \n",
      "4    3        Sidney Crosby, C  PIT  77.0  28.0  56.0  84.0   5.0  47.0   \n",
      "5    4       Alex Ovechkin, LW  WSH  81.0  53.0  28.0  81.0  10.0  58.0   \n",
      "6            Jakub Voracek, RW  PHI  82.0  22.0  59.0  81.0   1.0  78.0   \n",
      "7    6    Nicklas Backstrom, C  WSH  82.0  18.0  60.0  78.0   5.0  40.0   \n",
      "8    7         Tyler Seguin, C  DAL  71.0  37.0  40.0  77.0  -1.0  20.0   \n",
      "9    8         Jiri Hudler, LW  CGY  78.0  31.0  45.0  76.0  17.0  14.0   \n",
      "10            Daniel Sedin, LW  VAN  82.0  20.0  56.0  76.0   5.0  18.0   \n",
      "11  10  Vladimir Tarasenko, RW  STL  77.0  37.0  36.0  73.0  27.0  31.0   \n",
      "13            Nick Foligno, LW  CBJ  79.0  31.0  42.0  73.0  16.0  50.0   \n",
      "14            Claude Giroux, C  PHI  81.0  25.0  48.0  73.0  -3.0  36.0   \n",
      "15             Henrik Sedin, C  VAN  82.0  18.0  55.0  73.0  11.0  22.0   \n",
      "16  14       Steven Stamkos, C   TB  82.0  43.0  29.0  72.0   2.0  49.0   \n",
      "17            Tyler Johnson, C   TB  77.0  29.0  43.0  72.0  33.0  24.0   \n",
      "18  16        Ryan Johansen, C  CBJ  82.0  26.0  45.0  71.0  -6.0  40.0   \n",
      "19  17         Joe Pavelski, C   SJ  82.0  37.0  33.0  70.0  12.0  29.0   \n",
      "20            Evgeni Malkin, C  PIT  69.0  28.0  42.0  70.0  -2.0  60.0   \n",
      "21             Ryan Getzlaf, C  ANA  77.0  25.0  45.0  70.0  15.0  62.0   \n",
      "22  20           Rick Nash, LW  NYR  79.0  42.0  27.0  69.0  29.0  36.0   \n",
      "24  21      Max Pacioretty, LW  MTL  80.0  37.0  30.0  67.0  38.0  32.0   \n",
      "25            Logan Couture, C   SJ  82.0  27.0  40.0  67.0  -6.0  12.0   \n",
      "26  23       Jonathan Toews, C  CHI  81.0  28.0  38.0  66.0  30.0  36.0   \n",
      "27            Erik Karlsson, D  OTT  82.0  21.0  45.0  66.0   7.0  42.0   \n",
      "28       Henrik Zetterberg, LW  DET  77.0  17.0  49.0  66.0  -6.0  32.0   \n",
      "29  26        Pavel Datsyuk, C  DET  63.0  26.0  39.0  65.0  12.0   8.0   \n",
      "30             Joe Thornton, C   SJ  78.0  16.0  49.0  65.0  -4.0  30.0   \n",
      "31  28     Nikita Kucherov, RW   TB  82.0  28.0  36.0  64.0  38.0  37.0   \n",
      "32            Patrick Kane, RW  CHI  61.0  27.0  37.0  64.0  10.0  10.0   \n",
      "33              Mark Stone, RW  OTT  80.0  26.0  38.0  64.0  21.0  14.0   \n",
      "36         Alexander Steen, LW  STL  74.0  24.0  40.0  64.0   8.0  33.0   \n",
      "37              Kyle Turris, C  OTT  82.0  24.0  40.0  64.0   5.0  36.0   \n",
      "38         Johnny Gaudreau, LW  CGY  80.0  24.0  40.0  64.0  11.0  14.0   \n",
      "39             Anze Kopitar, C   LA  79.0  16.0  48.0  64.0  -2.0  10.0   \n",
      "40  35        Radim Vrbata, RW  VAN  79.0  31.0  32.0  63.0   6.0  20.0   \n",
      "41          Jaden Schwartz, LW  STL  75.0  28.0  35.0  63.0  13.0  16.0   \n",
      "42           Filip Forsberg, C  NSH  82.0  26.0  37.0  63.0  15.0  24.0   \n",
      "43           Jordan Eberle, RW  EDM  81.0  24.0  39.0  63.0 -16.0  24.0   \n",
      "44            Ondrej Palat, LW   TB  75.0  16.0  47.0  63.0  31.0  24.0   \n",
      "45  40         Zach Parise, LW  MIN  74.0  33.0  29.0  62.0  21.0  41.0   \n",
      "\n",
      "    PTS/G    SOG   PCT   GWG    G1    A1   G2   A2  \n",
      "2    1.06  253.0  13.8   6.0  10.0  13.0  2.0  3.0  \n",
      "3    1.05  278.0  13.7   8.0  13.0  18.0  0.0  1.0  \n",
      "4    1.09  237.0  11.8   3.0  10.0  21.0  0.0  0.0  \n",
      "5    1.00  395.0  13.4  11.0  25.0   9.0  0.0  0.0  \n",
      "6    0.99  221.0  10.0   3.0  11.0  22.0  0.0  0.0  \n",
      "7    0.95  153.0  11.8   3.0   3.0  30.0  0.0  0.0  \n",
      "8    1.08  280.0  13.2   5.0  13.0  16.0  0.0  0.0  \n",
      "9    0.97  158.0  19.6   5.0   6.0  10.0  0.0  0.0  \n",
      "10   0.93  226.0   8.9   5.0   4.0  21.0  0.0  0.0  \n",
      "11   0.95  264.0  14.0   6.0   8.0  10.0  0.0  0.0  \n",
      "13   0.92  182.0  17.0   3.0  11.0  15.0  0.0  0.0  \n",
      "14   0.90  279.0   9.0   4.0  14.0  23.0  0.0  0.0  \n",
      "15   0.89  101.0  17.8   0.0   5.0  20.0  0.0  0.0  \n",
      "16   0.88  268.0  16.0   6.0  13.0  12.0  0.0  0.0  \n",
      "17   0.94  203.0  14.3   6.0   8.0   9.0  0.0  0.0  \n",
      "18   0.87  202.0  12.9   0.0   7.0  19.0  2.0  0.0  \n",
      "19   0.85  261.0  14.2   5.0  19.0  12.0  0.0  0.0  \n",
      "20   1.01  212.0  13.2   4.0   9.0  17.0  0.0  0.0  \n",
      "21   0.91  191.0  13.1   6.0   3.0  10.0  0.0  2.0  \n",
      "22   0.87  304.0  13.8   8.0   6.0   6.0  4.0  1.0  \n",
      "24   0.84  302.0  12.3  10.0   7.0   4.0  3.0  2.0  \n",
      "25   0.82  263.0  10.3   4.0   6.0  18.0  2.0  0.0  \n",
      "26   0.81  192.0  14.6   7.0   6.0  11.0  2.0  1.0  \n",
      "27   0.80  292.0   7.2   3.0   6.0  24.0  0.0  0.0  \n",
      "28   0.86  227.0   7.5   3.0   4.0  24.0  0.0  0.0  \n",
      "29   1.03  165.0  15.8   5.0   8.0  16.0  0.0  0.0  \n",
      "30   0.83  131.0  12.2   0.0   4.0  18.0  0.0  0.0  \n",
      "31   0.78  190.0  14.7   2.0   2.0  13.0  0.0  0.0  \n",
      "32   1.05  186.0  14.5   5.0   6.0  16.0  0.0  0.0  \n",
      "33   0.80  157.0  16.6   6.0   5.0   8.0  1.0  0.0  \n",
      "36   0.86  223.0  10.8   5.0   8.0  16.0  0.0  0.0  \n",
      "37   0.78  215.0  11.2   6.0   4.0  12.0  1.0  0.0  \n",
      "38   0.80  167.0  14.4   4.0   8.0  13.0  0.0  0.0  \n",
      "39   0.81  134.0  11.9   4.0   6.0  18.0  0.0  0.0  \n",
      "40   0.80  267.0  11.6   7.0  12.0  11.0  0.0  0.0  \n",
      "41   0.84  184.0  15.2   4.0   8.0   8.0  0.0  2.0  \n",
      "42   0.77  237.0  11.0   6.0   6.0  13.0  0.0  0.0  \n",
      "43   0.78  183.0  13.1   2.0   6.0  15.0  0.0  0.0  \n",
      "44   0.84  139.0  11.5   5.0   3.0   8.0  1.0  1.0  \n",
      "45   0.84  259.0  12.7   3.0  11.0   5.0  0.0  0.0  \n",
      "\n",
      " How many rows remain: \n",
      " RK        40\n",
      "PLAYER    40\n",
      "TEAM      40\n",
      "GP        40\n",
      "G         40\n",
      "A         40\n",
      "PTS       40\n",
      "+/-       40\n",
      "PIM       40\n",
      "PTS/G     40\n",
      "SOG       40\n",
      "PCT       40\n",
      "GWG       40\n",
      "G1        40\n",
      "A1        40\n",
      "G2        40\n",
      "A2        40\n",
      "dtype: int64\n"
     ]
    }
   ],
   "source": [
    "#thresh - paramter of dropna()\n",
    "df_nonull = df2.dropna(thresh = df2.isnull().sum(axis=1) )\n",
    "#print(df_nonull[0:7])\n",
    "print(df_nonull)\n",
    "print(\"\\n How many rows remain: \\n\",df_nonull.count())"
   ]
  },
  {
   "cell_type": "markdown",
   "metadata": {},
   "source": [
    "### Drop column 'PLAYER'"
   ]
  },
  {
   "cell_type": "code",
   "execution_count": 14,
   "metadata": {},
   "outputs": [
    {
     "name": "stdout",
     "output_type": "stream",
     "text": [
      "    RK TEAM    GP     G     A   PTS   +/-   PIM  PTS/G    SOG   PCT   GWG  \\\n",
      "2    1  DAL  82.0  35.0  52.0  87.0   1.0  64.0   1.06  253.0  13.8   6.0   \n",
      "3    2  NYI  82.0  38.0  48.0  86.0   5.0  46.0   1.05  278.0  13.7   8.0   \n",
      "4    3  PIT  77.0  28.0  56.0  84.0   5.0  47.0   1.09  237.0  11.8   3.0   \n",
      "5    4  WSH  81.0  53.0  28.0  81.0  10.0  58.0   1.00  395.0  13.4  11.0   \n",
      "6       PHI  82.0  22.0  59.0  81.0   1.0  78.0   0.99  221.0  10.0   3.0   \n",
      "7    6  WSH  82.0  18.0  60.0  78.0   5.0  40.0   0.95  153.0  11.8   3.0   \n",
      "8    7  DAL  71.0  37.0  40.0  77.0  -1.0  20.0   1.08  280.0  13.2   5.0   \n",
      "9    8  CGY  78.0  31.0  45.0  76.0  17.0  14.0   0.97  158.0  19.6   5.0   \n",
      "10      VAN  82.0  20.0  56.0  76.0   5.0  18.0   0.93  226.0   8.9   5.0   \n",
      "11  10  STL  77.0  37.0  36.0  73.0  27.0  31.0   0.95  264.0  14.0   6.0   \n",
      "13      CBJ  79.0  31.0  42.0  73.0  16.0  50.0   0.92  182.0  17.0   3.0   \n",
      "14      PHI  81.0  25.0  48.0  73.0  -3.0  36.0   0.90  279.0   9.0   4.0   \n",
      "15      VAN  82.0  18.0  55.0  73.0  11.0  22.0   0.89  101.0  17.8   0.0   \n",
      "16  14   TB  82.0  43.0  29.0  72.0   2.0  49.0   0.88  268.0  16.0   6.0   \n",
      "17       TB  77.0  29.0  43.0  72.0  33.0  24.0   0.94  203.0  14.3   6.0   \n",
      "18  16  CBJ  82.0  26.0  45.0  71.0  -6.0  40.0   0.87  202.0  12.9   0.0   \n",
      "19  17   SJ  82.0  37.0  33.0  70.0  12.0  29.0   0.85  261.0  14.2   5.0   \n",
      "20      PIT  69.0  28.0  42.0  70.0  -2.0  60.0   1.01  212.0  13.2   4.0   \n",
      "\n",
      "      G1    A1   G2   A2  \n",
      "2   10.0  13.0  2.0  3.0  \n",
      "3   13.0  18.0  0.0  1.0  \n",
      "4   10.0  21.0  0.0  0.0  \n",
      "5   25.0   9.0  0.0  0.0  \n",
      "6   11.0  22.0  0.0  0.0  \n",
      "7    3.0  30.0  0.0  0.0  \n",
      "8   13.0  16.0  0.0  0.0  \n",
      "9    6.0  10.0  0.0  0.0  \n",
      "10   4.0  21.0  0.0  0.0  \n",
      "11   8.0  10.0  0.0  0.0  \n",
      "13  11.0  15.0  0.0  0.0  \n",
      "14  14.0  23.0  0.0  0.0  \n",
      "15   5.0  20.0  0.0  0.0  \n",
      "16  13.0  12.0  0.0  0.0  \n",
      "17   8.0   9.0  0.0  0.0  \n",
      "18   7.0  19.0  2.0  0.0  \n",
      "19  19.0  12.0  0.0  0.0  \n",
      "20   9.0  17.0  0.0  0.0  \n"
     ]
    }
   ],
   "source": [
    "df2 = df_nonull.drop('PLAYER', axis=1)\n",
    "print(df2[0:18])"
   ]
  },
  {
   "cell_type": "markdown",
   "metadata": {},
   "source": [
    "### Dropping 5 more columns"
   ]
  },
  {
   "cell_type": "code",
   "execution_count": 15,
   "metadata": {},
   "outputs": [
    {
     "name": "stdout",
     "output_type": "stream",
     "text": [
      "    RK TEAM     G     A   +/-   PIM  PTS/G   PCT   GWG   G2   A2\n",
      "2    1  DAL  35.0  52.0   1.0  64.0   1.06  13.8   6.0  2.0  3.0\n",
      "3    2  NYI  38.0  48.0   5.0  46.0   1.05  13.7   8.0  0.0  1.0\n",
      "4    3  PIT  28.0  56.0   5.0  47.0   1.09  11.8   3.0  0.0  0.0\n",
      "5    4  WSH  53.0  28.0  10.0  58.0   1.00  13.4  11.0  0.0  0.0\n",
      "6       PHI  22.0  59.0   1.0  78.0   0.99  10.0   3.0  0.0  0.0\n",
      "7    6  WSH  18.0  60.0   5.0  40.0   0.95  11.8   3.0  0.0  0.0\n",
      "8    7  DAL  37.0  40.0  -1.0  20.0   1.08  13.2   5.0  0.0  0.0\n",
      "9    8  CGY  31.0  45.0  17.0  14.0   0.97  19.6   5.0  0.0  0.0\n",
      "10      VAN  20.0  56.0   5.0  18.0   0.93   8.9   5.0  0.0  0.0\n",
      "11  10  STL  37.0  36.0  27.0  31.0   0.95  14.0   6.0  0.0  0.0\n",
      "13      CBJ  31.0  42.0  16.0  50.0   0.92  17.0   3.0  0.0  0.0\n",
      "14      PHI  25.0  48.0  -3.0  36.0   0.90   9.0   4.0  0.0  0.0\n",
      "15      VAN  18.0  55.0  11.0  22.0   0.89  17.8   0.0  0.0  0.0\n",
      "16  14   TB  43.0  29.0   2.0  49.0   0.88  16.0   6.0  0.0  0.0\n",
      "17       TB  29.0  43.0  33.0  24.0   0.94  14.3   6.0  0.0  0.0\n",
      "18  16  CBJ  26.0  45.0  -6.0  40.0   0.87  12.9   0.0  2.0  0.0\n",
      "19  17   SJ  37.0  33.0  12.0  29.0   0.85  14.2   5.0  0.0  0.0\n",
      "20      PIT  28.0  42.0  -2.0  60.0   1.01  13.2   4.0  0.0  0.0\n",
      "21      ANA  25.0  45.0  15.0  62.0   0.91  13.1   6.0  0.0  2.0\n",
      "22  20  NYR  42.0  27.0  29.0  36.0   0.87  13.8   8.0  4.0  1.0\n",
      "24  21  MTL  37.0  30.0  38.0  32.0   0.84  12.3  10.0  3.0  2.0\n",
      "25       SJ  27.0  40.0  -6.0  12.0   0.82  10.3   4.0  2.0  0.0\n",
      "26  23  CHI  28.0  38.0  30.0  36.0   0.81  14.6   7.0  2.0  1.0\n",
      "27      OTT  21.0  45.0   7.0  42.0   0.80   7.2   3.0  0.0  0.0\n",
      "28      DET  17.0  49.0  -6.0  32.0   0.86   7.5   3.0  0.0  0.0\n",
      "29  26  DET  26.0  39.0  12.0   8.0   1.03  15.8   5.0  0.0  0.0\n",
      "30       SJ  16.0  49.0  -4.0  30.0   0.83  12.2   0.0  0.0  0.0\n",
      "31  28   TB  28.0  36.0  38.0  37.0   0.78  14.7   2.0  0.0  0.0\n",
      "32      CHI  27.0  37.0  10.0  10.0   1.05  14.5   5.0  0.0  0.0\n",
      "33      OTT  26.0  38.0  21.0  14.0   0.80  16.6   6.0  1.0  0.0\n",
      "36      STL  24.0  40.0   8.0  33.0   0.86  10.8   5.0  0.0  0.0\n",
      "37      OTT  24.0  40.0   5.0  36.0   0.78  11.2   6.0  1.0  0.0\n",
      "38      CGY  24.0  40.0  11.0  14.0   0.80  14.4   4.0  0.0  0.0\n",
      "39       LA  16.0  48.0  -2.0  10.0   0.81  11.9   4.0  0.0  0.0\n",
      "40  35  VAN  31.0  32.0   6.0  20.0   0.80  11.6   7.0  0.0  0.0\n",
      "41      STL  28.0  35.0  13.0  16.0   0.84  15.2   4.0  0.0  2.0\n",
      "42      NSH  26.0  37.0  15.0  24.0   0.77  11.0   6.0  0.0  0.0\n",
      "43      EDM  24.0  39.0 -16.0  24.0   0.78  13.1   2.0  0.0  0.0\n",
      "44       TB  16.0  47.0  31.0  24.0   0.84  11.5   5.0  1.0  1.0\n",
      "45  40  MIN  33.0  29.0  21.0  41.0   0.84  12.7   3.0  0.0  0.0\n"
     ]
    }
   ],
   "source": [
    "df3 = df2.drop(['GP', 'PTS', 'G1', 'A1', 'SOG'], axis=1)\n",
    "#print(df3[0:12])\n",
    "print(df3)"
   ]
  },
  {
   "cell_type": "markdown",
   "metadata": {},
   "source": [
    "### Get only unique elements"
   ]
  },
  {
   "cell_type": "code",
   "execution_count": 16,
   "metadata": {},
   "outputs": [
    {
     "name": "stdout",
     "output_type": "stream",
     "text": [
      "[13.8 13.7 11.8 13.4 10.  13.2 19.6  8.9 14.  17.   9.  17.8 16.  14.3\n",
      " 12.9 14.2 13.1 12.3 10.3 14.6  7.2  7.5 15.8 12.2 14.7 14.5 16.6 10.8\n",
      " 11.2 14.4 11.9 11.6 15.2 11.  11.5 12.7]\n",
      "number elements before .unique():  40\n",
      "number elements after .unique():  36\n"
     ]
    }
   ],
   "source": [
    "print(df3['PCT'].unique())\n",
    "print('number elements before .unique(): ', df3['PCT'].count())\n",
    "print('number elements after .unique(): ',df3['PCT'].unique().shape[0])"
   ]
  },
  {
   "cell_type": "code",
   "execution_count": 17,
   "metadata": {},
   "outputs": [
    {
     "name": "stdout",
     "output_type": "stream",
     "text": [
      "    RK TEAM     G     A   +/-   PIM  PTS/G   PCT  GWG   G2   A2\n",
      "18  16  CBJ  26.0  45.0  -6.0  40.0   0.87  12.9  0.0  2.0  0.0\n",
      "19  17   SJ  37.0  33.0  12.0  29.0   0.85  14.2  5.0  0.0  0.0\n",
      "18    12.9\n",
      "19    14.2\n",
      "Name: PCT, dtype: float64\n",
      "33.8\n"
     ]
    }
   ],
   "source": [
    "print(df3[15:17])\n",
    "print(df3[\"PCT\"][15:17])\n",
    "print(df3[\"PCT\"][15] + df3[\"PCT\"][16])"
   ]
  },
  {
   "cell_type": "markdown",
   "metadata": {},
   "source": [
    "### Part IV: Read and Write"
   ]
  },
  {
   "cell_type": "code",
   "execution_count": 18,
   "metadata": {},
   "outputs": [
    {
     "name": "stdout",
     "output_type": "stream",
     "text": [
      "                     education  income  women  prestige  census  type\n",
      "GOV.ADMINISTRATORS       13.11   12351  11.16      68.8    1113  prof\n",
      "GENERAL.MANAGERS         12.26   25879   4.02      69.1    1130  prof\n",
      "ACCOUNTANTS              12.77    9271  15.70      63.4    1171  prof\n",
      "PURCHASING.OFFICERS      11.42    8865   9.11      56.8    1175  prof\n",
      "CHEMISTS                 14.62    8403  11.68      73.5    2111  prof \n",
      "\n",
      "<class 'pandas.core.frame.DataFrame'> \n",
      "\n",
      "              education  income  women  prestige  census type\n",
      "BUS.DRIVERS        7.58    5562   9.47      35.9    9171   bc\n",
      "TAXI.DRIVERS       7.93    4224   3.59      25.1    9173   bc\n",
      "LONGSHOREMEN       8.37    4753   0.00      26.1    9313   bc\n",
      "TYPESETTERS       10.00    6462  13.58      42.2    9511   bc\n",
      "BOOKBINDERS        8.55    3617  70.87      35.2    9517   bc \n",
      "\n",
      "describe = \n",
      "         education        income       women    prestige       census\n",
      "count  102.000000    102.000000  102.000000  102.000000   102.000000\n",
      "mean    10.738039   6797.901961   28.979020   46.833333  5401.774510\n",
      "std      2.728444   4245.922227   31.724931   17.204486  2644.993215\n",
      "min      6.380000    611.000000    0.000000   14.800000  1113.000000\n",
      "25%      8.445000   4106.000000    3.592500   35.225000  3120.500000\n",
      "50%     10.540000   5930.500000   13.600000   43.600000  5135.000000\n",
      "75%     12.647500   8187.250000   52.202500   59.275000  8312.500000\n",
      "max     15.970000  25879.000000   97.510000   87.200000  9517.000000\n",
      "Index(['education', 'income', 'women', 'prestige', 'census', 'type'], dtype='object')\n",
      "(102, 6)\n",
      "Index(['GOV.ADMINISTRATORS', 'GENERAL.MANAGERS', 'ACCOUNTANTS',\n",
      "       'PURCHASING.OFFICERS', 'CHEMISTS', 'PHYSICISTS', 'BIOLOGISTS',\n",
      "       'ARCHITECTS', 'CIVIL.ENGINEERS', 'MINING.ENGINEERS',\n",
      "       ...\n",
      "       'HOUSE.PAINTERS', 'PLUMBERS', 'CONSTRUCTION.LABOURERS', 'PILOTS',\n",
      "       'TRAIN.ENGINEERS', 'BUS.DRIVERS', 'TAXI.DRIVERS', 'LONGSHOREMEN',\n",
      "       'TYPESETTERS', 'BOOKBINDERS'],\n",
      "      dtype='object', length=102)\n"
     ]
    }
   ],
   "source": [
    "df = pd.read_csv('files/Prestige.txt',  delim_whitespace=True)\n",
    "print (df.head(5), '\\n')\n",
    "print (type(df), '\\n')\n",
    "print (df.tail(5), '\\n') # in Python 3 'print' is function \n",
    "print (\"describe = \\n\", df.describe())\n",
    "print (df.columns)\n",
    "print(df.shape)\n",
    "print(df.index)"
   ]
  },
  {
   "cell_type": "markdown",
   "metadata": {},
   "source": [
    "### Write excel, json, csv formats"
   ]
  },
  {
   "cell_type": "code",
   "execution_count": 19,
   "metadata": {},
   "outputs": [
    {
     "name": "stdout",
     "output_type": "stream",
     "text": [
      "on start:                       education  income  women  prestige  census  type\n",
      "GOV.ADMINISTRATORS       13.11   12351  11.16      68.8    1113  prof\n",
      "GENERAL.MANAGERS         12.26   25879   4.02      69.1    1130  prof\n",
      "ACCOUNTANTS              12.77    9271  15.70      63.4    1171  prof\n",
      "PURCHASING.OFFICERS      11.42    8865   9.11      56.8    1175  prof\n",
      "CHEMISTS                 14.62    8403  11.68      73.5    2111  prof\n",
      "PHYSICISTS               15.64   11030   5.13      77.6    2113  prof\n",
      "BIOLOGISTS               15.09    8258  25.65      72.6    2133  prof\n",
      "ARCHITECTS               15.44   14163   2.69      78.1    2141  prof\n",
      "CIVIL.ENGINEERS          14.52   11377   1.03      73.1    2143  prof\n",
      "MINING.ENGINEERS         14.64   11023   0.94      68.8    2153  prof\n",
      "SURVEYORS                12.39    5902   1.91      62.0    2161  prof\n",
      "DRAUGHTSMEN              12.30    7059   7.83      60.0    2163  prof\n",
      "COMPUTER.PROGRAMERS      13.83    8425  15.33      53.8    2183  prof\n",
      "ECONOMISTS               14.44    8049  57.31      62.2    2311  prof\n",
      "PSYCHOLOGISTS            14.36    7405  48.28      74.9    2315  prof\n",
      "\n",
      " after convert:                       education  income  women  prestige  census  type\n",
      "GOV.ADMINISTRATORS       13.11   12351  11.16      68.8    1113  prof\n",
      "GENERAL.MANAGERS         12.26   25879   4.02      69.1    1130  prof\n",
      "ACCOUNTANTS              12.77    9271  15.70      63.4    1171  prof\n",
      "PURCHASING.OFFICERS      11.42    8865   9.11      56.8    1175  prof\n",
      "CHEMISTS                 14.62    8403  11.68      73.5    2111  prof\n",
      "PHYSICISTS               15.64   11030   5.13      77.6    2113  prof\n",
      "BIOLOGISTS               15.09    8258  25.65      72.6    2133  prof\n",
      "ARCHITECTS               15.44   14163   2.69      78.1    2141  prof\n",
      "CIVIL.ENGINEERS          14.52   11377   1.03      73.1    2143  prof\n",
      "MINING.ENGINEERS         14.64   11023   0.94      68.8    2153  prof\n",
      "SURVEYORS                12.39    5902   1.91      62.0    2161  prof\n",
      "DRAUGHTSMEN              12.30    7059   7.83      60.0    2163  prof\n",
      "COMPUTER.PROGRAMERS      13.83    8425  15.33      53.8    2183  prof\n",
      "ECONOMISTS               14.44    8049  57.31      62.2    2311  prof\n",
      "PSYCHOLOGISTS            14.36    7405  48.28      74.9    2315  prof\n"
     ]
    }
   ],
   "source": [
    "import json\n",
    "\n",
    "df = pd.read_csv('files/Prestige.txt',  delim_whitespace=True)\n",
    "print('on start: ', df[:15])\n",
    "df.to_json('dataset_json.json', orient='split')\n",
    "\n",
    "df2 = pd.read_json('dataset_json.json', orient='split')\n",
    "print('\\n after convert: ', df2[:15])\n"
   ]
  },
  {
   "cell_type": "code",
   "execution_count": 20,
   "metadata": {},
   "outputs": [
    {
     "name": "stdout",
     "output_type": "stream",
     "text": [
      "on start:                             education  income  women  prestige  census type\n",
      "TYPISTS                        11.49    3148  95.97      41.9    4113   wc\n",
      "BOOKKEEPERS                    11.32    4348  68.24      49.4    4131   wc\n",
      "TELLERS.CASHIERS               10.64    2448  91.76      42.3    4133   wc\n",
      "COMPUTER.OPERATORS             11.36    4330  75.92      47.7    4143   wc\n",
      "SHIPPING.CLERKS                 9.17    4761  11.37      30.9    4153   wc\n",
      "FILE.CLERKS                    12.09    3016  83.19      32.7    4161   wc\n",
      "RECEPTIONSTS                   11.04    2901  92.86      38.7    4171   wc\n",
      "MAIL.CARRIERS                   9.22    5511   7.62      36.1    4172   wc\n",
      "POSTAL.CLERKS                  10.07    3739  52.27      37.2    4173   wc\n",
      "TELEPHONE.OPERATORS            10.51    3161  96.14      38.1    4175   wc\n",
      "COLLECTORS                     11.20    4741  47.06      29.4    4191   wc\n",
      "CLAIM.ADJUSTORS                11.13    5052  56.10      51.1    4192   wc\n",
      "TRAVEL.CLERKS                  11.43    6259  39.17      35.7    4193   wc\n",
      "OFFICE.CLERKS                  11.00    4075  63.23      35.6    4197   wc\n",
      "SALES.SUPERVISORS               9.84    7482  17.04      41.5    5130   wc\n",
      "COMMERCIAL.TRAVELLERS          11.13    8780   3.16      40.2    5133   wc\n",
      "SALES.CLERKS                   10.05    2594  67.82      26.5    5137   wc\n",
      "NEWSBOYS                        9.62     918   7.00      14.8    5143  NaN\n",
      "SERVICE.STATION.ATTENDANT       9.93    2370   3.69      23.3    5145   bc\n",
      "INSURANCE..AGENTS              11.60    8131  13.09      47.3    5171   wc\n",
      "\n",
      " after convert:                             education  income  women  prestige  census type\n",
      "TYPISTS                        11.49    3148  95.97      41.9    4113   wc\n",
      "BOOKKEEPERS                    11.32    4348  68.24      49.4    4131   wc\n",
      "TELLERS.CASHIERS               10.64    2448  91.76      42.3    4133   wc\n",
      "COMPUTER.OPERATORS             11.36    4330  75.92      47.7    4143   wc\n",
      "SHIPPING.CLERKS                 9.17    4761  11.37      30.9    4153   wc\n",
      "FILE.CLERKS                    12.09    3016  83.19      32.7    4161   wc\n",
      "RECEPTIONSTS                   11.04    2901  92.86      38.7    4171   wc\n",
      "MAIL.CARRIERS                   9.22    5511   7.62      36.1    4172   wc\n",
      "POSTAL.CLERKS                  10.07    3739  52.27      37.2    4173   wc\n",
      "TELEPHONE.OPERATORS            10.51    3161  96.14      38.1    4175   wc\n",
      "COLLECTORS                     11.20    4741  47.06      29.4    4191   wc\n",
      "CLAIM.ADJUSTORS                11.13    5052  56.10      51.1    4192   wc\n",
      "TRAVEL.CLERKS                  11.43    6259  39.17      35.7    4193   wc\n",
      "OFFICE.CLERKS                  11.00    4075  63.23      35.6    4197   wc\n",
      "SALES.SUPERVISORS               9.84    7482  17.04      41.5    5130   wc\n",
      "COMMERCIAL.TRAVELLERS          11.13    8780   3.16      40.2    5133   wc\n",
      "SALES.CLERKS                   10.05    2594  67.82      26.5    5137   wc\n",
      "NEWSBOYS                        9.62     918   7.00      14.8    5143  NaN\n",
      "SERVICE.STATION.ATTENDANT       9.93    2370   3.69      23.3    5145   bc\n",
      "INSURANCE..AGENTS              11.60    8131  13.09      47.3    5171   wc\n"
     ]
    }
   ],
   "source": [
    "df = pd.read_csv('files/Prestige.txt',  delim_whitespace=True)\n",
    "print('on start: ', df[35:55])\n",
    "df.to_excel('dataset_excel.xlsx')\n",
    "\n",
    "df2 = pd.read_excel('dataset_excel.xlsx')\n",
    "print('\\n after convert: ', df2[35:55])"
   ]
  },
  {
   "cell_type": "code",
   "execution_count": 21,
   "metadata": {},
   "outputs": [
    {
     "name": "stdout",
     "output_type": "stream",
     "text": [
      "on start:                             education  income  women  prestige  census type\n",
      "TYPISTS                        11.49    3148  95.97      41.9    4113   wc\n",
      "BOOKKEEPERS                    11.32    4348  68.24      49.4    4131   wc\n",
      "TELLERS.CASHIERS               10.64    2448  91.76      42.3    4133   wc\n",
      "COMPUTER.OPERATORS             11.36    4330  75.92      47.7    4143   wc\n",
      "SHIPPING.CLERKS                 9.17    4761  11.37      30.9    4153   wc\n",
      "FILE.CLERKS                    12.09    3016  83.19      32.7    4161   wc\n",
      "RECEPTIONSTS                   11.04    2901  92.86      38.7    4171   wc\n",
      "MAIL.CARRIERS                   9.22    5511   7.62      36.1    4172   wc\n",
      "POSTAL.CLERKS                  10.07    3739  52.27      37.2    4173   wc\n",
      "TELEPHONE.OPERATORS            10.51    3161  96.14      38.1    4175   wc\n",
      "COLLECTORS                     11.20    4741  47.06      29.4    4191   wc\n",
      "CLAIM.ADJUSTORS                11.13    5052  56.10      51.1    4192   wc\n",
      "TRAVEL.CLERKS                  11.43    6259  39.17      35.7    4193   wc\n",
      "OFFICE.CLERKS                  11.00    4075  63.23      35.6    4197   wc\n",
      "SALES.SUPERVISORS               9.84    7482  17.04      41.5    5130   wc\n",
      "COMMERCIAL.TRAVELLERS          11.13    8780   3.16      40.2    5133   wc\n",
      "SALES.CLERKS                   10.05    2594  67.82      26.5    5137   wc\n",
      "NEWSBOYS                        9.62     918   7.00      14.8    5143  NaN\n",
      "SERVICE.STATION.ATTENDANT       9.93    2370   3.69      23.3    5145   bc\n",
      "INSURANCE..AGENTS              11.60    8131  13.09      47.3    5171   wc\n",
      "df shape:  (102, 6)\n",
      "df3 shape:  (102, 6)\n",
      "\n",
      " after convert:      education  income  women  prestige  census type\n",
      "35      11.49    3148  95.97      41.9    4113   wc\n",
      "36      11.32    4348  68.24      49.4    4131   wc\n",
      "37      10.64    2448  91.76      42.3    4133   wc\n",
      "38      11.36    4330  75.92      47.7    4143   wc\n",
      "39       9.17    4761  11.37      30.9    4153   wc\n",
      "40      12.09    3016  83.19      32.7    4161   wc\n",
      "41      11.04    2901  92.86      38.7    4171   wc\n",
      "42       9.22    5511   7.62      36.1    4172   wc\n",
      "43      10.07    3739  52.27      37.2    4173   wc\n",
      "44      10.51    3161  96.14      38.1    4175   wc\n",
      "45      11.20    4741  47.06      29.4    4191   wc\n",
      "46      11.13    5052  56.10      51.1    4192   wc\n",
      "47      11.43    6259  39.17      35.7    4193   wc\n",
      "48      11.00    4075  63.23      35.6    4197   wc\n",
      "49       9.84    7482  17.04      41.5    5130   wc\n",
      "50      11.13    8780   3.16      40.2    5133   wc\n",
      "51      10.05    2594  67.82      26.5    5137   wc\n",
      "52       9.62     918   7.00      14.8    5143  NaN\n",
      "53       9.93    2370   3.69      23.3    5145   bc\n",
      "54      11.60    8131  13.09      47.3    5171   wc\n"
     ]
    }
   ],
   "source": [
    "df = pd.read_csv('files/Prestige.txt',  delim_whitespace=True)\n",
    "print('on start: ', df[35:55])\n",
    "df.to_csv('dataset_csv.csv')\n",
    "print('df shape: ', df.shape)\n",
    "\n",
    "df2 = pd.read_csv('dataset_csv.csv')\n",
    "df3 = df2.drop(df2.columns[0], axis=1)\n",
    "print('df3 shape: ', df3.shape)\n",
    "print('\\n after convert: ', df3[35:55])"
   ]
  },
  {
   "cell_type": "code",
   "execution_count": 22,
   "metadata": {},
   "outputs": [
    {
     "name": "stdout",
     "output_type": "stream",
     "text": [
      "     0                       1     2    3    4    5    6    7    8      9   \\\n",
      "0    RK                  PLAYER  TEAM   GP    G    A  PTS  +/-  PIM  PTS/G   \n",
      "1     1          Jamie Benn, LW   DAL   82   35   52   87    1   64   1.06   \n",
      "2     2         John Tavares, C   NYI   82   38   48   86    5   46   1.05   \n",
      "3     3        Sidney Crosby, C   PIT   77   28   56   84    5   47   1.09   \n",
      "4     4       Alex Ovechkin, LW   WSH   81   53   28   81   10   58   1.00   \n",
      "5   NaN       Jakub Voracek, RW   PHI   82   22   59   81    1   78   0.99   \n",
      "6     6    Nicklas Backstrom, C   WSH   82   18   60   78    5   40   0.95   \n",
      "7     7         Tyler Seguin, C   DAL   71   37   40   77   -1   20   1.08   \n",
      "8     8         Jiri Hudler, LW   CGY   78   31   45   76   17   14   0.97   \n",
      "9   NaN        Daniel Sedin, LW   VAN   82   20   56   76    5   18   0.93   \n",
      "10   10  Vladimir Tarasenko, RW   STL   77   37   36   73   27   31   0.95   \n",
      "11  NaN                      PP    SH  NaN  NaN  NaN  NaN  NaN  NaN    NaN   \n",
      "12   RK                  PLAYER  TEAM   GP    G    A  PTS  +/-  PIM  PTS/G   \n",
      "13  NaN        Nick Foligno, LW   CBJ   79   31   42   73   16   50   0.92   \n",
      "14  NaN       Claude Giroux, LW   PHI   81   25   48   73   -3   36   0.90   \n",
      "15  NaN         Henrik Sedin, C   VAN   82   18   55   73   11   22   0.89   \n",
      "16   14       Steven Stamkos, C    TB   82   43   29   72    2   49   0.88   \n",
      "17  NaN        Tyler Johnson, C    TB   77   29   43   72   33   24   0.94   \n",
      "18   16        Ryan Johansen, C   CBJ   82   26   45   71   -6   40   0.87   \n",
      "19   17         Joe Pavelski, C    SJ   82   37   33   70   12   29   0.85   \n",
      "20  NaN        Evgeni Malkin, C   PIT   69   28   42   70   -2   60   1.01   \n",
      "21  NaN         Ryan Getzlaf, C   ANA   77   25   45   70   15   62   0.91   \n",
      "22   20           Rick Nash, LW   NYR   79   42   27   69   29   36   0.87   \n",
      "23  NaN                      PP    SH  NaN  NaN  NaN  NaN  NaN  NaN    NaN   \n",
      "24   RK                  PLAYER  TEAM   GP    G    A  PTS  +/-  PIM  PTS/G   \n",
      "25   21      Max Pacioretty, LW   MTL   80   37   30   67   38   32   0.84   \n",
      "26  NaN        Logan Couture, C    SJ   82   27   40   67   -6   12   0.82   \n",
      "27   23       Jonathan Toews, C   CHI   81   28   38   66   30   36   0.81   \n",
      "28  NaN        Erik Karlsson, D   OTT   82   21   45   66    7   42   0.80   \n",
      "29  NaN   Henrik Zetterberg, LW   DET   77   17   49   66   -6   32   0.86   \n",
      "30   26        Pavel Datsyuk, C   DET   63   26   39   65   12    8   1.03   \n",
      "31  NaN         Joe Thornton, C    SJ   78   16   49   65   -4   30   0.83   \n",
      "32   28     Nikita Kucherov, RW    TB   82   28   36   64   38   37   0.78   \n",
      "33  NaN        Patrick Kane, RW   CHI   61   27   37   64   10   10   1.05   \n",
      "34  NaN          Mark Stone, RW   OTT   80   26   38   64   21   14   0.80   \n",
      "35  NaN                      PP    SH  NaN  NaN  NaN  NaN  NaN  NaN    NaN   \n",
      "36   RK                  PLAYER  TEAM   GP    G    A  PTS  +/-  PIM  PTS/G   \n",
      "37  NaN          Kyle Turris, C   OTT   82   24   40   64    5   36   0.78   \n",
      "38  NaN     Alexander Steen, LW   STL   74   24   40   64    8   33   0.86   \n",
      "39  NaN     Johnny Gaudreau, LW   CGY   80   24   40   64   11   14   0.80   \n",
      "40  NaN         Anze Kopitar, C    LA   79   16   48   64   -2   10   0.81   \n",
      "41   35        Radim Vrbata, RW   VAN   79   31   32   63    6   20   0.80   \n",
      "42  NaN      Jaden Schwartz, LW   STL   75   28   35   63   13   16   0.84   \n",
      "43  NaN       Filip Forsberg, C   NSH   82   26   37   63   15   24   0.77   \n",
      "44  NaN       Jordan Eberle, RW   EDM   81   24   39   63  -16   24   0.78   \n",
      "45  NaN        Ondrej Palat, LW    TB   75   16   47   63   31   24   0.84   \n",
      "46   40         Zach Parise, LW   MIN   74   33   29   62   21   41   0.84   \n",
      "\n",
      "     10    11   12   13   14   15   16  \n",
      "0   SOG   PCT  GWG    G    A    G    A  \n",
      "1   253  13.8    6   10   13    2    3  \n",
      "2   278  13.7    8   13   18    0    1  \n",
      "3   237  11.8    3   10   21    0    0  \n",
      "4   395  13.4   11   25    9    0    0  \n",
      "5   221  10.0    3   11   22    0    0  \n",
      "6   153  11.8    3    3   30    0    0  \n",
      "7   280  13.2    5   13   16    0    0  \n",
      "8   158  19.6    5    6   10    0    0  \n",
      "9   226   8.9    5    4   21    0    0  \n",
      "10  264  14.0    6    8   10    0    0  \n",
      "11  NaN   NaN  NaN  NaN  NaN  NaN  NaN  \n",
      "12  SOG   PCT  GWG    G    A    G    A  \n",
      "13  182  17.0    3   11   15    0    0  \n",
      "14  279   9.0    4   14   23    0    0  \n",
      "15  101  17.8    0    5   20    0    0  \n",
      "16  268  16.0    6   13   12    0    0  \n",
      "17  203  14.3    6    8    9    0    0  \n",
      "18  202  12.9    0    7   19    2    0  \n",
      "19  261  14.2    5   19   12    0    0  \n",
      "20  212  13.2    4    9   17    0    0  \n",
      "21  191  13.1    6    3   10    0    2  \n",
      "22  304  13.8    8    6    6    4    1  \n",
      "23  NaN   NaN  NaN  NaN  NaN  NaN  NaN  \n",
      "24  SOG   PCT  GWG    G    A    G    A  \n",
      "25  302  12.3   10    7    4    3    2  \n",
      "26  263  10.3    4    6   18    2    0  \n",
      "27  192  14.6    7    6   11    2    1  \n",
      "28  292   7.2    3    6   24    0    0  \n",
      "29  227   7.5    3    4   24    0    0  \n",
      "30  165  15.8    5    8   16    0    0  \n",
      "31  131  12.2    0    4   18    0    0  \n",
      "32  190  14.7    2    2   13    0    0  \n",
      "33  186  14.5    5    6   16    0    0  \n",
      "34  157  16.6    6    5    8    1    0  \n",
      "35  NaN   NaN  NaN  NaN  NaN  NaN  NaN  \n",
      "36  SOG   PCT  GWG    G    A    G    A  \n",
      "37  215  11.2    6    4   12    1    0  \n",
      "38  223  10.8    5    8   16    0    0  \n",
      "39  167  14.4    4    8   13    0    0  \n",
      "40  134  11.9    4    6   18    0    0  \n",
      "41  267  11.6    7   12   11    0    0  \n",
      "42  184  15.2    4    8    8    0    2  \n",
      "43  237  11.0    6    6   13    0    0  \n",
      "44  183  13.1    2    6   15    0    0  \n",
      "45  139  11.5    5    3    8    1    1  \n",
      "46  259  12.7    3   11    5    0    0  \n"
     ]
    }
   ],
   "source": [
    "data1 = pd.read_html('http://www.espn.com/nhl/statistics/player/_/stat/points/sort/points/year/2015&#47;seasontype/2',skiprows=1)[0]\n",
    "print(data1)"
   ]
  },
  {
   "cell_type": "code",
   "execution_count": null,
   "metadata": {},
   "outputs": [],
   "source": []
  }
 ],
 "metadata": {
  "kernelspec": {
   "display_name": "Python [conda env:Anaconda_3]",
   "language": "python",
   "name": "conda-env-Anaconda_3-py"
  },
  "language_info": {
   "codemirror_mode": {
    "name": "ipython",
    "version": 3
   },
   "file_extension": ".py",
   "mimetype": "text/x-python",
   "name": "python",
   "nbconvert_exporter": "python",
   "pygments_lexer": "ipython3",
   "version": "3.5.6"
  }
 },
 "nbformat": 4,
 "nbformat_minor": 2
}
